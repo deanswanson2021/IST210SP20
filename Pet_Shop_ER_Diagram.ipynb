{
  "nbformat": 4,
  "nbformat_minor": 0,
  "metadata": {
    "colab": {
      "name": "Pet Shop ER Diagram",
      "provenance": [],
      "collapsed_sections": [],
      "authorship_tag": "ABX9TyM+Nce1kyHW4OBY7FMW5EkW",
      "include_colab_link": true
    },
    "kernelspec": {
      "name": "python3",
      "display_name": "Python 3"
    }
  },
  "cells": [
    {
      "cell_type": "markdown",
      "metadata": {
        "id": "view-in-github",
        "colab_type": "text"
      },
      "source": [
        "<a href=\"https://colab.research.google.com/github/deanswanson2021/IST210SP20/blob/master/Pet_Shop_ER_Diagram.ipynb\" target=\"_parent\"><img src=\"https://colab.research.google.com/assets/colab-badge.svg\" alt=\"Open In Colab\"/></a>"
      ]
    },
    {
      "cell_type": "markdown",
      "metadata": {
        "id": "aOv7i-HA0TIC",
        "colab_type": "text"
      },
      "source": [
        "### Pet Shop ER Diagram"
      ]
    },
    {
      "cell_type": "markdown",
      "metadata": {
        "id": "QtFPaszF2Yep",
        "colab_type": "text"
      },
      "source": [
        "I designed this Pet Shop Entity Relationship Diagram by firstly thinking of the customer. I put down all the attributes of the customer including some sort of ID that the customer needed to be known when he makes transactions. These include the customer's name and address, age, phone number, and loyalty points. The next two tables are the transaction tables. These two include two order numbers as primary keys in order to establish which order it is and who bought it so it is linked to the loyalty ID. The order numbers are then linked to food and pet tables because those would be what you buy in the orders. The food table has a UPC as the primary key, and the pet table has pet ID. The pet ID is also in the food table in order to determine which type of pet gets which type of food. Finally, the pet table includes a foregin key called enclosure number. This runs to the enclosure table which tells you which pets are in which enclosure and all the attributes about that enclosure."
      ]
    },
    {
      "cell_type": "markdown",
      "metadata": {
        "id": "OFN7MsVW0e3w",
        "colab_type": "text"
      },
      "source": [
        "![alt text](https://raw.githubusercontent.com/deanswanson2021/IST210SP20/master/Lab1/Petshop%20ER%20Diagram.png)"
      ]
    }
  ]
}