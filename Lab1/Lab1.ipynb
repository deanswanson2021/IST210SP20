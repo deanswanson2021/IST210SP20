{
  "nbformat": 4,
  "nbformat_minor": 0,
  "metadata": {
    "colab": {
      "name": "Lab1",
      "provenance": [],
      "collapsed_sections": [],
      "toc_visible": true
    },
    "kernelspec": {
      "name": "python3",
      "display_name": "Python 3"
    }
  },
  "cells": [
    {
      "cell_type": "markdown",
      "metadata": {
        "id": "IEagENbsQ6FR",
        "colab_type": "text"
      },
      "source": [
        "### Dean Swanson\n"
      ]
    },
    {
      "cell_type": "markdown",
      "metadata": {
        "id": "aG_UGLr08brS",
        "colab_type": "text"
      },
      "source": [
        "![Resume Picture](https://raw.githubusercontent.com/deanswanson2021/IST210SP20/master/Lab1/images/Image-9.png)"
      ]
    },
    {
      "cell_type": "markdown",
      "metadata": {
        "id": "gEqQHOKTRQVZ",
        "colab_type": "text"
      },
      "source": [
        "### My IST Related Interests\n"
      ]
    },
    {
      "cell_type": "markdown",
      "metadata": {
        "id": "tWdSAOpuW-pn",
        "colab_type": "text"
      },
      "source": [
        "I would like to be a project manager or business analyst at a bank or insurance company one day. I interned at an insurance company this past summer as a project mananager and loved it.\n"
      ]
    },
    {
      "cell_type": "markdown",
      "metadata": {
        "id": "Xcf9plgeTCEc",
        "colab_type": "text"
      },
      "source": [
        "### Future Job/Career\n",
        "\n",
        "\n",
        "\n"
      ]
    },
    {
      "cell_type": "markdown",
      "metadata": {
        "id": "J46JhiX_XGOM",
        "colab_type": "text"
      },
      "source": [
        "I would like to be a project manager or business analyst at a bank or insurance company one day. I interned at an insurance company this past summer as a project mananager and loved it.\n"
      ]
    }
  ]
}